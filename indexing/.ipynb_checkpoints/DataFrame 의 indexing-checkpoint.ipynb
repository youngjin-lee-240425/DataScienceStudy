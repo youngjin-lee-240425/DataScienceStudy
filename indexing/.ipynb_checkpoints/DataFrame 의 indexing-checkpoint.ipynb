{
 "cells": [
  {
   "cell_type": "markdown",
   "id": "1dcb73d8",
   "metadata": {},
   "source": [
    "# DataFrame 의 indexing"
   ]
  },
  {
   "attachments": {},
   "cell_type": "markdown",
   "id": "afdebae8",
   "metadata": {},
   "source": [
    "### 아래 3가지 indexing 방법의 사용법을 정확히 알고 사용해야 한다.\n",
    "\n",
    "- loc[] 를 이용한 indexing\n",
    "- iloc[] 를 이용한 indexing\n",
    "- loc 나 iloc 사용하지 않고 그냥 [] 만 이용한 indexing"
   ]
  },
  {
   "cell_type": "markdown",
   "id": "6ff08c25",
   "metadata": {},
   "source": [
    "### 참고 자료\n",
    "- https://pandas.pydata.org/docs/reference/api/pandas.DataFrame.loc.html\n",
    "- https://pandas.pydata.org/docs/reference/api/pandas.DataFrame.iloc.html\n",
    "- https://pandas.pydata.org/pandas-docs/stable/user_guide/indexing.html"
   ]
  },
  {
   "cell_type": "markdown",
   "id": "c1066cca",
   "metadata": {},
   "source": [
    "\n",
    "- DataFrame 은 일반적으로 행(row) 과 열(column) 이 존재하는 2차원 행렬로 생각할 수 있다.\n",
    "- loc[], iloc[] 방식의 indexing - 기본 형태는 [행, 열] 로 indexing 한다.\n",
    "- loc[] 의 경우는 '행', '열' 자리에 label 이 들어간다. ('행'의 label 은 Index 이고, '열'의 label 은 column name 이다.)\n",
    "- iloc[] 의 경우는 '행', '열' 자리에 0부터 시작하는 position value 가 들어간다."
   ]
  },
  {
   "cell_type": "markdown",
   "id": "b2b733e3",
   "metadata": {},
   "source": [
    "### (loc[], iloc[] 방식의 indexing) 특정 행의 '모든 열' 을 선택하는 방법\n",
    "아래 3가지가 모두 가능하다.\n",
    "- [행, :]\n",
    "- [행,]\n",
    "- [행]"
   ]
  },
  {
   "cell_type": "markdown",
   "id": "78019387",
   "metadata": {},
   "source": [
    "### (loc[], iloc[] 방식의 indexing) 특정 열의 '모든 행' 을 선택하는 방법\n",
    "아래 1가지만 가능하다.\n",
    "\n",
    "- [: , 열]"
   ]
  },
  {
   "cell_type": "code",
   "execution_count": null,
   "id": "bc28060a",
   "metadata": {},
   "outputs": [],
   "source": []
  }
 ],
 "metadata": {
  "kernelspec": {
   "display_name": "Python 3 (ipykernel)",
   "language": "python",
   "name": "python3"
  },
  "language_info": {
   "codemirror_mode": {
    "name": "ipython",
    "version": 3
   },
   "file_extension": ".py",
   "mimetype": "text/x-python",
   "name": "python",
   "nbconvert_exporter": "python",
   "pygments_lexer": "ipython3",
   "version": "3.7.4"
  }
 },
 "nbformat": 4,
 "nbformat_minor": 5
}
